{
 "cells": [
  {
   "cell_type": "markdown",
   "metadata": {
    "id": "4M2unyfTx9B1"
   },
   "source": [
    "<div>\n",
    "<img src=https://www.institutedata.com/wp-content/uploads/2019/10/iod_h_tp_primary_c.svg width=\"300\">\n",
    "</div>"
   ]
  },
  {
   "cell_type": "markdown",
   "metadata": {
    "id": "RqiJTWNJmxTh"
   },
   "source": [
    "# Statistics - part 2"
   ]
  },
  {
   "cell_type": "code",
   "execution_count": 1,
   "metadata": {
    "executionInfo": {
     "elapsed": 4043,
     "status": "ok",
     "timestamp": 1621343411744,
     "user": {
      "displayName": "Saif Farooqui",
      "photoUrl": "https://lh3.googleusercontent.com/a-/AOh14GjsU7d_w96nJXHY9iSVQyar1ial35PxE6r0lQzJ0W8KanSxr_4Do9uKMDFykvPqV6Ex5R7UuatmEl9bpM-IHnb-bMx2mbNv9Ulldukq1pjUu6_Ht78vzrRrlTBXh6e1BtUmQhkIbKk-g91D-XcgLF_xXTd4IVjB-FL-Uvywz3rXQQ-tuyXZvDu9SSvtfxKwP4nFUwq5mVdOzyC1hb-iQKBEzXDTDEmXh__5T5G_JE48yxUrpRaVfSAtTnOjcIXX-_Y5YL6sBx2bFq4PKrSitdgYPI4tKVMjY1NjTMqyqGAXe0WHP7UvfLTOYXI5F2m-PsEZUzt6f28mxXyTvLWIrPOr_eU2QmuOGKGw6V0Og7Fpg2qnZLyrE9qDwArj2WweXN0U3T8AWk_5D7Mzqrp0ZEXML142o-e2G7rLHqNWn7Yn09AhG5zaMSmo9E0DyALMksuJ_oJfXCwFn2wb5gn6pZL1IoVeZkOKw6IB3K5WyiVLOQXH-Onun8eIsIXLdRNDvkuxolXNI0LEaQsEb5Xt7vknHsS3EcgZKWsK9B9QlSZLOAa-IAHVJoMz7DKZrBTIfhEqDMcquI9KExazwQVQNObD24Pz67XB-34X2fegdaFneekqJlHS309DDcm8NHphScijRPzQVmccVfnCuUF4Qxp8Mia81RtB5gCqfv4GTLyQkHQOA3PQU0ijcPetB5oWbORUmXHFkAIMiyJCCXOO58lryDY9VI3yEGe5JAgL-xe2tMK8iW5DTzgcEzPWnsgKxWhcrw=s64",
      "userId": "00590093268640985478"
     },
     "user_tz": -480
    },
    "id": "LMexHJ6rmxTh"
   },
   "outputs": [],
   "source": [
    "import numpy as np\n",
    "import matplotlib.pyplot as plt\n",
    "from scipy import stats\n",
    "# get matplot to show charts inline\n",
    "%matplotlib inline"
   ]
  },
  {
   "cell_type": "markdown",
   "metadata": {
    "id": "77Yt7aCRpUKY"
   },
   "source": [
    "# 1. plot a histogram of a set of observations\n",
    "\n",
    "experiment with various number of bins"
   ]
  },
  {
   "cell_type": "code",
   "execution_count": 2,
   "metadata": {
    "id": "7PY2pBe8mxTk"
   },
   "outputs": [],
   "source": [
    "# plot a histogram of a set of observations\n",
    "# experiment with various number of bins\n",
    "x = [21,22,23,4,5,6,77,8,9,10,31,32,33,34,35,36,37,18,49,50,100]\n",
    "num_bins = 5"
   ]
  },
  {
   "cell_type": "markdown",
   "metadata": {
    "id": "cRSBy51CpgbC"
   },
   "source": [
    "# 2. Calculate statistical information of a set of observations using numpy and stats\n",
    "```\n",
    "# Expected Output:\n",
    "mean of observations = 28.884615384615383\n",
    "median of observations = 27.0\n",
    "mode of observations = ModeResult(mode=array([10]), count=array([4]))\n",
    "percentile of observations = [10.   27.   35.75]\n",
    "statistical summary of observations = DescribeResult(nobs=26, minmax=(4, 100), mean=28.884615384615383, variance=523.3061538461537, skewness=1.4001632366778733, kurtosis=2.0634808152807826)\n",
    "```"
   ]
  },
  {
   "cell_type": "code",
   "execution_count": 3,
   "metadata": {
    "id": "odB27dRAmxTn"
   },
   "outputs": [],
   "source": [
    "# calculate statistical information of a set of observations using numpy and stats\n",
    "observations = [21,22,23,4,5,6,77,8,9,10,31,32,33,34,35,36,37,18,49,50,100,10,32,49,10,10]"
   ]
  },
  {
   "cell_type": "markdown",
   "metadata": {
    "id": "AGpwG3Mup0iD"
   },
   "source": [
    "# 3. Plot box chart of obstravations"
   ]
  },
  {
   "cell_type": "code",
   "execution_count": 4,
   "metadata": {
    "id": "JMIEInnMmxTq"
   },
   "outputs": [],
   "source": [
    "# plot box chart of obstravations\n",
    "observations = [21,22,23,4,5,6,77,8,9,10,31,32,33,34,35,36,37,18,49,50,100,10,32,49,10,10]"
   ]
  },
  {
   "cell_type": "markdown",
   "metadata": {
    "id": "LcviDI1CqBtM"
   },
   "source": [
    "# 4. Create a Binomial Distribution\n",
    "\n",
    "Lookup stats.binom.pmf\n",
    "\n",
    "What does it do?"
   ]
  },
  {
   "cell_type": "code",
   "execution_count": 5,
   "metadata": {
    "colab": {
     "base_uri": "https://localhost:8080/",
     "height": 367
    },
    "executionInfo": {
     "elapsed": 789,
     "status": "ok",
     "timestamp": 1552700227788,
     "user": {
      "displayName": "Ibrahim Faisal",
      "photoUrl": "",
      "userId": "02685917636347920688"
     },
     "user_tz": -660
    },
    "id": "9aQ57ncDJReH",
    "outputId": "986b17b8-e2ff-4d91-f456-0b40c39dea4e"
   },
   "outputs": [
    {
     "name": "stdout",
     "output_type": "stream",
     "text": [
      "Help on method pmf in module scipy.stats._distn_infrastructure:\n",
      "\n",
      "pmf(k, *args, **kwds) method of scipy.stats._discrete_distns.binom_gen instance\n",
      "    Probability mass function at k of the given RV.\n",
      "    \n",
      "    Parameters\n",
      "    ----------\n",
      "    k : array_like\n",
      "        Quantiles.\n",
      "    arg1, arg2, arg3,... : array_like\n",
      "        The shape parameter(s) for the distribution (see docstring of the\n",
      "        instance object for more information)\n",
      "    loc : array_like, optional\n",
      "        Location parameter (default=0).\n",
      "    \n",
      "    Returns\n",
      "    -------\n",
      "    pmf : array_like\n",
      "        Probability mass function evaluated at k\n",
      "\n"
     ]
    }
   ],
   "source": [
    "help(stats.binom.pmf)"
   ]
  },
  {
   "cell_type": "code",
   "execution_count": 6,
   "metadata": {
    "colab": {
     "base_uri": "https://localhost:8080/",
     "height": 352
    },
    "executionInfo": {
     "elapsed": 1446,
     "status": "ok",
     "timestamp": 1552703611710,
     "user": {
      "displayName": "Ibrahim Faisal",
      "photoUrl": "",
      "userId": "02685917636347920688"
     },
     "user_tz": -660
    },
    "id": "_vJoZMf2mxTs",
    "outputId": "0e05757d-5262-4151-8a3a-8ab401031fdf"
   },
   "outputs": [
    {
     "name": "stdout",
     "output_type": "stream",
     "text": [
      "[ 0  1  2  3  4  5  6  7  8  9 10 11 12 13 14 15 16 17 18 19]\n",
      "[0.00097656 0.00976563 0.04394531 0.1171875  0.20507813 0.24609375\n",
      " 0.20507813 0.1171875  0.04394531 0.00976563 0.00097656 0.\n",
      " 0.         0.         0.         0.         0.         0.\n",
      " 0.         0.        ]\n"
     ]
    },
    {
     "data": {
      "image/png": "[encoded data removed]",
      "text/plain": [
       "<Figure size 432x288 with 1 Axes>"
      ]
     },
     "metadata": {
      "needs_background": "light"
     },
     "output_type": "display_data"
    }
   ],
   "source": [
    "# creating a Binomial Distribution\n",
    "n = 10\n",
    "p = 0.5\n",
    "k = np.arange(0,20)\n",
    "\n",
    "print(k)\n",
    "\n",
    "binomial = stats.binom.pmf(k, n, p)\n",
    "\n",
    "print(binomial)\n",
    "\n",
    "plt.plot(binomial);"
   ]
  },
  {
   "cell_type": "markdown",
   "metadata": {
    "id": "HlhkB_IcqU4U"
   },
   "source": [
    "# 5. Create a scatter plot"
   ]
  },
  {
   "cell_type": "code",
   "execution_count": null,
   "metadata": {
    "id": "-qx81cWXmxTu"
   },
   "outputs": [],
   "source": [
    "import numpy as np\n",
    "import matplotlib.pyplot as plt\n",
    "\n",
    "# Fixing random state for reproducibility\n",
    "np.random.seed(19680801)\n",
    "\n",
    "\n",
    "N = 50\n",
    "x = np.random.rand(N)\n",
    "y = np.random.rand(N)\n",
    "colors = np.random.rand(N)\n",
    "area = (30 * np.random.rand(N))**2  # 0 to 15 point radii"
   ]
  },
  {
   "cell_type": "markdown",
   "metadata": {
    "id": "_KQAJyqIqheV"
   },
   "source": [
    "# 6. Calculate and Visualize Correlations\n",
    "\n",
    "NOTE: Lookup np.corrcoef. What does it do?"
   ]
  },
  {
   "cell_type": "code",
   "execution_count": null,
   "metadata": {
    "id": "5K4lfLpTmxTw"
   },
   "outputs": [],
   "source": [
    "# Calculate and visualise correltions\n",
    "import matplotlib\n",
    "np.random.seed(1)\n",
    "\n",
    "# 1000 random integers between 0 and 50\n",
    "x = np.random.randint(0, 50, 1000)\n",
    "\n",
    "# Positive Correlation with some noise\n",
    "y = x + np.random.normal(0, 10, 1000)"
   ]
  },
  {
   "cell_type": "code",
   "execution_count": null,
   "metadata": {
    "colab": {
     "base_uri": "https://localhost:8080/",
     "height": 34
    },
    "executionInfo": {
     "elapsed": 744,
     "status": "ok",
     "timestamp": 1552692286593,
     "user": {
      "displayName": "Ibrahim Faisal",
      "photoUrl": "",
      "userId": "02685917636347920688"
     },
     "user_tz": -660
    },
    "id": "5EPfgBdDmxTz",
    "outputId": "11f783b4-0a0f-4904-9bc2-b1a6d6e5e56e"
   },
   "outputs": [
    {
     "name": "stdout",
     "output_type": "stream",
     "text": [
      "[ 0.11163049 29.5832885 ]\n"
     ]
    }
   ],
   "source": [
    "# Calculate the coefficient of best fit line or curve\n",
    "x = [21,22,23,4,5,6,77,8,9,10,31,32,33,34,35,36,37,18,49,50,100,10,32,49,10,10]\n",
    "y = [88,12,23,3,6,8,9,12,27,36,34,77,60,35,36,37,18,49,50,100,10,32,49,10,10,22]\n",
    "\n",
    "print(np.polyfit(x,y,1))"
   ]
  },
  {
   "cell_type": "markdown",
   "metadata": {
    "id": "c6f0e9yXra37"
   },
   "source": [
    "# 7. [BONUS] Plot X, Y and Best Fit Line\n",
    "\n",
    "**Write a function to calculate best fit.**\n",
    "\n",
    "![alt text](https://i.imgur.com/B43vOV0.jpg)[1]\n",
    "\n",
    "[1]: https://www.mathsisfun.com/data/least-squares-regression.html \"Least Squares Regression\""
   ]
  },
  {
   "cell_type": "code",
   "execution_count": null,
   "metadata": {
    "id": "-jouTQjemxT1"
   },
   "outputs": [],
   "source": [
    "# sample points \n",
    "X = [0, 5, 10, 15, 20]\n",
    "Y = [0, 7, 10, 13, 20]\n",
    "\n",
    "# solve for a and b\n",
    "def best_fit(X, Y):\n",
    "    '''\n",
    "    Return m, b\n",
    "    '''\n",
    "    \n",
    "    m = 1\n",
    "    b = 1\n",
    "    \n",
    "    return m, b\n",
    "\n",
    "# solution\n",
    "m, b = best_fit(X, Y)\n",
    "#best fit line:\n",
    "#y = 0.80 + 0.92x\n",
    "\n",
    "# plot points and fit line"
   ]
  },
  {
   "cell_type": "markdown",
   "metadata": {
    "id": "HfL9jnC4txJH"
   },
   "source": [
    "# 8. plot a histogram of a set of observations - centered\n",
    "\n",
    "Experiment with various number of bins\n",
    "\n",
    "        y = x - np.mean(x)"
   ]
  },
  {
   "cell_type": "code",
   "execution_count": 2,
   "metadata": {
    "executionInfo": {
     "elapsed": 1511,
     "status": "ok",
     "timestamp": 1621343427174,
     "user": {
      "displayName": "Saif Farooqui",
      "photoUrl": "https://lh3.googleusercontent.com/a-/AOh14GjsU7d_w96nJXHY9iSVQyar1ial35PxE6r0lQzJ0W8KanSxr_4Do9uKMDFykvPqV6Ex5R7UuatmEl9bpM-IHnb-bMx2mbNv9Ulldukq1pjUu6_Ht78vzrRrlTBXh6e1BtUmQhkIbKk-g91D-XcgLF_xXTd4IVjB-FL-Uvywz3rXQQ-tuyXZvDu9SSvtfxKwP4nFUwq5mVdOzyC1hb-iQKBEzXDTDEmXh__5T5G_JE48yxUrpRaVfSAtTnOjcIXX-_Y5YL6sBx2bFq4PKrSitdgYPI4tKVMjY1NjTMqyqGAXe0WHP7UvfLTOYXI5F2m-PsEZUzt6f28mxXyTvLWIrPOr_eU2QmuOGKGw6V0Og7Fpg2qnZLyrE9qDwArj2WweXN0U3T8AWk_5D7Mzqrp0ZEXML142o-e2G7rLHqNWn7Yn09AhG5zaMSmo9E0DyALMksuJ_oJfXCwFn2wb5gn6pZL1IoVeZkOKw6IB3K5WyiVLOQXH-Onun8eIsIXLdRNDvkuxolXNI0LEaQsEb5Xt7vknHsS3EcgZKWsK9B9QlSZLOAa-IAHVJoMz7DKZrBTIfhEqDMcquI9KExazwQVQNObD24Pz67XB-34X2fegdaFneekqJlHS309DDcm8NHphScijRPzQVmccVfnCuUF4Qxp8Mia81RtB5gCqfv4GTLyQkHQOA3PQU0ijcPetB5oWbORUmXHFkAIMiyJCCXOO58lryDY9VI3yEGe5JAgL-xe2tMK8iW5DTzgcEzPWnsgKxWhcrw=s64",
      "userId": "00590093268640985478"
     },
     "user_tz": -480
    },
    "id": "bw-YGxBEmxT5"
   },
   "outputs": [],
   "source": [
    "# plot a histogram of a set of observations - centered\n",
    "# experiment with various number of bins\n",
    "x = [21,22,23,4,5,6,77,8,9,10,31,32,33,34,35,36,37,18,49,50,100]"
   ]
  },
  {
   "cell_type": "markdown",
   "metadata": {
    "id": "IvLbO4hot_oK"
   },
   "source": [
    "# 9. plot a histogram of a set of observations - scaled\n",
    "\n",
    "        y = x / np.std(x)"
   ]
  },
  {
   "cell_type": "code",
   "execution_count": null,
   "metadata": {
    "id": "rKkxbfpGmxT7"
   },
   "outputs": [],
   "source": [
    "# plot a histogram of a set of observations - scaled\n",
    "# experiment with various number of bins\n",
    "x = [21,22,23,4,5,6,77,8,9,10,31,32,33,34,35,36,37,18,49,50,100]"
   ]
  },
  {
   "cell_type": "markdown",
   "metadata": {
    "id": "WhM8Zio5uQ65"
   },
   "source": [
    "# 10. [BONUS] Create a probplot against normal distribution\n",
    "\n",
    "Check following methods:\n",
    "\n",
    "1. stats.loggamma.rvs\n",
    "2. stats.probplot\n",
    "3. stats.norm\n",
    "4. stats.boxcox"
   ]
  },
  {
   "cell_type": "code",
   "execution_count": null,
   "metadata": {
    "colab": {
     "base_uri": "https://localhost:8080/",
     "height": 151
    },
    "executionInfo": {
     "elapsed": 723,
     "status": "ok",
     "timestamp": 1552693315169,
     "user": {
      "displayName": "Ibrahim Faisal",
      "photoUrl": "",
      "userId": "02685917636347920688"
     },
     "user_tz": -660
    },
    "id": "2X4WJFBxmxT_",
    "outputId": "8c130b45-aba0-488e-e643-44b4f6d11577"
   },
   "outputs": [
    {
     "data": {
      "image/png": "[encoded data removed]",
      "text/plain": [
       "<Figure size 432x288 with 1 Axes>"
      ]
     },
     "metadata": {
      "tags": []
     },
     "output_type": "display_data"
    }
   ],
   "source": [
    "from scipy import stats\n",
    "import matplotlib.pyplot as plt\n",
    "fig = plt.figure()\n",
    "ax1 = fig.add_subplot(211)\n",
    "x = stats.loggamma.rvs(5, size=500) + 5"
   ]
  },
  {
   "cell_type": "markdown",
   "metadata": {
    "id": "2X66iINLvAun"
   },
   "source": [
    "# 11. [BONUS] Calculate Mean Confidence Interval\n",
    "\n",
    "Check following methods:\n",
    "\n",
    "1. scipy.stats.sem\n",
    "2. scipy.stats.t.ppf"
   ]
  },
  {
   "cell_type": "code",
   "execution_count": 7,
   "metadata": {
    "colab": {
     "base_uri": "https://localhost:8080/",
     "height": 34
    },
    "executionInfo": {
     "elapsed": 727,
     "status": "ok",
     "timestamp": 1552693467297,
     "user": {
      "displayName": "Ibrahim Faisal",
      "photoUrl": "",
      "userId": "02685917636347920688"
     },
     "user_tz": -660
    },
    "id": "RbRSVOnlmxUC",
    "outputId": "6cca7647-c0cb-4ba6-fc35-8596a2d40591"
   },
   "outputs": [
    {
     "name": "stdout",
     "output_type": "stream",
     "text": [
      "(0, 0, 0)\n"
     ]
    }
   ],
   "source": [
    "import numpy as np\n",
    "import scipy.stats\n",
    "\n",
    "\n",
    "def mean_confidence_interval(data, confidence=0.95):\n",
    "    # Calculate m, h\n",
    "    m, se = 0, 0\n",
    "    h = 0\n",
    "    return m, m-h, m+h\n",
    "\n",
    "data = [21,22,23,4,5,6,77,8,9,10,31,32,33,34,35,36,37,18,49,50,100]\n",
    "print(mean_confidence_interval(data))"
   ]
  },
  {
   "cell_type": "markdown",
   "metadata": {
    "id": "6r9IVMcopfhs"
   },
   "source": [
    "\n",
    "\n",
    "---\n",
    "\n",
    "\n",
    "\n",
    "---\n",
    "\n",
    "\n",
    "\n",
    "> > > > > > > > > © 2021 Institute of Data\n",
    "\n",
    "\n",
    "---\n",
    "\n",
    "\n",
    "\n",
    "---\n",
    "\n",
    "\n",
    "\n"
   ]
  }
 ],
 "metadata": {
  "colab": {
   "collapsed_sections": [],
   "name": "Lab 1.1.4 Statistics - part 2 Lab.ipynb",
   "provenance": [
    {
     "file_id": "https://github.com/ikfaisal/dsia/blob/master/Statistics_part_2.ipynb",
     "timestamp": 1552461263669
    }
   ]
  },
  "kernelspec": {
   "display_name": "Python 3",
   "language": "python",
   "name": "python3"
  },
  "language_info": {
   "codemirror_mode": {
    "name": "ipython",
    "version": 3
   },
   "file_extension": ".py",
   "mimetype": "text/x-python",
   "name": "python",
   "nbconvert_exporter": "python",
   "pygments_lexer": "ipython3",
   "version": "3.8.5"
  }
 },
 "nbformat": 4,
 "nbformat_minor": 1
}
