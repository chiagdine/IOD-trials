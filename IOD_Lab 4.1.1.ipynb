{
 "cells": [
  {
   "cell_type": "markdown",
   "metadata": {
    "id": "jZSSKjAWXd3j"
   },
   "source": [
    "<div>\n",
    "<img src=https://www.institutedata.com/wp-content/uploads/2019/10/iod_h_tp_primary_c.svg width=\"300\">\n",
    "</div>"
   ]
  },
  {
   "cell_type": "markdown",
   "metadata": {
    "id": "2Ms9riXMXd3k"
   },
   "source": [
    "# Lab 4.1.1 Linear Regression"
   ]
  },
  {
   "cell_type": "markdown",
   "metadata": {
    "id": "twocr7v8Xd3l"
   },
   "source": [
    "## Prediction of House Price Using Linear Regression"
   ]
  },
  {
   "cell_type": "markdown",
   "metadata": {
    "id": "0j3ZiTCPXd3m"
   },
   "source": [
    "### Data\n",
    "\n",
    "The Sacramento real estate transactions file is a list of 985 real estate transactions in the Sacramento area reported over a five-day period, as reported by the Sacramento Bee."
   ]
  },
  {
   "cell_type": "code",
   "execution_count": 33,
   "metadata": {
    "id": "hejYh49cXd3n"
   },
   "outputs": [],
   "source": [
    "import pandas as pd\n",
    "import numpy as np\n",
    "import pandas as pd\n",
    "import matplotlib.pyplot as plt\n",
    "\n",
    "%matplotlib inline"
   ]
  },
  {
   "cell_type": "markdown",
   "metadata": {
    "id": "BlumKNPDXd3q"
   },
   "source": [
    "### 1. Explore Data"
   ]
  },
  {
   "cell_type": "markdown",
   "metadata": {
    "id": "h1FUHCAnXd3r"
   },
   "source": [
    "Perform EDA on this dataset. Use what you have learned so far. Be creative. List all your findings."
   ]
  },
  {
   "cell_type": "code",
   "execution_count": 6,
   "metadata": {
    "id": "C8BX-oTKXd3s"
   },
   "outputs": [
    {
     "data": {
      "text/plain": [
       "0      1\n",
       "1      1\n",
       "2      1\n",
       "3      1\n",
       "4      1\n",
       "      ..\n",
       "980    3\n",
       "981    2\n",
       "982    2\n",
       "983    2\n",
       "984    2\n",
       "Name: baths, Length: 985, dtype: int64"
      ]
     },
     "execution_count": 6,
     "metadata": {},
     "output_type": "execute_result"
    }
   ],
   "source": [
    "# Read CSV\n",
    "#house_csv = \"../DATA/Sacramento_transactions.csv\"\n",
    "\n",
    "house_csv = \"Sacramento_transactions.csv\"\n",
    "data = pd.read_csv(house_csv)\n",
    "data.head()\n",
    "data['baths']"
   ]
  },
  {
   "cell_type": "markdown",
   "metadata": {
    "id": "sIztKXN7Xd3u"
   },
   "source": [
    "### 2. Predict Price"
   ]
  },
  {
   "cell_type": "markdown",
   "metadata": {
    "id": "hzXJOP2_Xd3v"
   },
   "source": [
    "We are going to predict `price` from available information."
   ]
  },
  {
   "cell_type": "markdown",
   "metadata": {
    "id": "1CMJdXc3Xd3w"
   },
   "source": [
    "#### 2.1 What is the Target Variable? Why?"
   ]
  },
  {
   "cell_type": "code",
   "execution_count": null,
   "metadata": {
    "id": "56yN89q2Xd3w"
   },
   "outputs": [],
   "source": [
    "# ANSWER, it is price as it is the output that we are looking at "
   ]
  },
  {
   "cell_type": "markdown",
   "metadata": {
    "id": "7qy-ZmGEXd3z"
   },
   "source": [
    "#### 2.2 List all possible variables which might be Predictor variable."
   ]
  },
  {
   "cell_type": "code",
   "execution_count": null,
   "metadata": {
    "id": "nfAq28P_Xd30"
   },
   "outputs": [],
   "source": [
    "# ANSWER, beds, baths, sq_fit and type \n"
   ]
  },
  {
   "cell_type": "markdown",
   "metadata": {
    "id": "yFZkIpXhXd32"
   },
   "source": [
    "#### 2.3 Find correlation between variables\n",
    "\n",
    "Find correlation between variables. Which is the best predictor? Why? State your reason."
   ]
  },
  {
   "cell_type": "code",
   "execution_count": 5,
   "metadata": {
    "id": "Nc8FHVnjXd32"
   },
   "outputs": [
    {
     "data": {
      "text/html": [
       "<div>\n",
       "<style scoped>\n",
       "    .dataframe tbody tr th:only-of-type {\n",
       "        vertical-align: middle;\n",
       "    }\n",
       "\n",
       "    .dataframe tbody tr th {\n",
       "        vertical-align: top;\n",
       "    }\n",
       "\n",
       "    .dataframe thead th {\n",
       "        text-align: right;\n",
       "    }\n",
       "</style>\n",
       "<table border=\"1\" class=\"dataframe\">\n",
       "  <thead>\n",
       "    <tr style=\"text-align: right;\">\n",
       "      <th></th>\n",
       "      <th>zip</th>\n",
       "      <th>beds</th>\n",
       "      <th>baths</th>\n",
       "      <th>sq__ft</th>\n",
       "      <th>price</th>\n",
       "      <th>latitude</th>\n",
       "      <th>longitude</th>\n",
       "    </tr>\n",
       "  </thead>\n",
       "  <tbody>\n",
       "    <tr>\n",
       "      <th>zip</th>\n",
       "      <td>1.000000</td>\n",
       "      <td>0.125319</td>\n",
       "      <td>0.069165</td>\n",
       "      <td>0.130108</td>\n",
       "      <td>-0.093353</td>\n",
       "      <td>-0.290389</td>\n",
       "      <td>-0.539904</td>\n",
       "    </tr>\n",
       "    <tr>\n",
       "      <th>beds</th>\n",
       "      <td>0.125319</td>\n",
       "      <td>1.000000</td>\n",
       "      <td>0.839650</td>\n",
       "      <td>0.684041</td>\n",
       "      <td>0.342024</td>\n",
       "      <td>-0.291307</td>\n",
       "      <td>-0.053993</td>\n",
       "    </tr>\n",
       "    <tr>\n",
       "      <th>baths</th>\n",
       "      <td>0.069165</td>\n",
       "      <td>0.839650</td>\n",
       "      <td>1.000000</td>\n",
       "      <td>0.665690</td>\n",
       "      <td>0.416208</td>\n",
       "      <td>-0.235792</td>\n",
       "      <td>0.016582</td>\n",
       "    </tr>\n",
       "    <tr>\n",
       "      <th>sq__ft</th>\n",
       "      <td>0.130108</td>\n",
       "      <td>0.684041</td>\n",
       "      <td>0.665690</td>\n",
       "      <td>1.000000</td>\n",
       "      <td>0.333897</td>\n",
       "      <td>-0.383274</td>\n",
       "      <td>-0.177742</td>\n",
       "    </tr>\n",
       "    <tr>\n",
       "      <th>price</th>\n",
       "      <td>-0.093353</td>\n",
       "      <td>0.342024</td>\n",
       "      <td>0.416208</td>\n",
       "      <td>0.333897</td>\n",
       "      <td>1.000000</td>\n",
       "      <td>-0.039573</td>\n",
       "      <td>0.284485</td>\n",
       "    </tr>\n",
       "    <tr>\n",
       "      <th>latitude</th>\n",
       "      <td>-0.290389</td>\n",
       "      <td>-0.291307</td>\n",
       "      <td>-0.235792</td>\n",
       "      <td>-0.383274</td>\n",
       "      <td>-0.039573</td>\n",
       "      <td>1.000000</td>\n",
       "      <td>0.387925</td>\n",
       "    </tr>\n",
       "    <tr>\n",
       "      <th>longitude</th>\n",
       "      <td>-0.539904</td>\n",
       "      <td>-0.053993</td>\n",
       "      <td>0.016582</td>\n",
       "      <td>-0.177742</td>\n",
       "      <td>0.284485</td>\n",
       "      <td>0.387925</td>\n",
       "      <td>1.000000</td>\n",
       "    </tr>\n",
       "  </tbody>\n",
       "</table>\n",
       "</div>"
      ],
      "text/plain": [
       "                zip      beds     baths    sq__ft     price  latitude  \\\n",
       "zip        1.000000  0.125319  0.069165  0.130108 -0.093353 -0.290389   \n",
       "beds       0.125319  1.000000  0.839650  0.684041  0.342024 -0.291307   \n",
       "baths      0.069165  0.839650  1.000000  0.665690  0.416208 -0.235792   \n",
       "sq__ft     0.130108  0.684041  0.665690  1.000000  0.333897 -0.383274   \n",
       "price     -0.093353  0.342024  0.416208  0.333897  1.000000 -0.039573   \n",
       "latitude  -0.290389 -0.291307 -0.235792 -0.383274 -0.039573  1.000000   \n",
       "longitude -0.539904 -0.053993  0.016582 -0.177742  0.284485  0.387925   \n",
       "\n",
       "           longitude  \n",
       "zip        -0.539904  \n",
       "beds       -0.053993  \n",
       "baths       0.016582  \n",
       "sq__ft     -0.177742  \n",
       "price       0.284485  \n",
       "latitude    0.387925  \n",
       "longitude   1.000000  "
      ]
     },
     "execution_count": 5,
     "metadata": {},
     "output_type": "execute_result"
    }
   ],
   "source": [
    "# ANSWER, bath as it is cloest value to 1\n",
    "data.corr()\n",
    "\n"
   ]
  },
  {
   "cell_type": "markdown",
   "metadata": {
    "id": "1vop_P66Xd35"
   },
   "source": [
    "#### 2.4 What is the simplest way to predict price\n",
    "\n",
    "So we have information for 985 houses. What is the easiest way to predict price of a house?"
   ]
  },
  {
   "cell_type": "code",
   "execution_count": null,
   "metadata": {
    "id": "p0xBzE9iXd35"
   },
   "outputs": [],
   "source": [
    "# ANSWER using linear regression"
   ]
  },
  {
   "cell_type": "markdown",
   "metadata": {
    "id": "8uRWVPNuXd38"
   },
   "source": [
    "#### 2.5 Find Resudals\n",
    "\n",
    "Find difference between actual value and predicted value. Use absolute value."
   ]
  },
  {
   "cell_type": "code",
   "execution_count": null,
   "metadata": {
    "id": "PBzfNQsGXd39"
   },
   "outputs": [],
   "source": [
    "# ANSWER"
   ]
  },
  {
   "cell_type": "markdown",
   "metadata": {
    "id": "5P61MoAsXd4B"
   },
   "source": [
    "#### 2.6  Predict Using Linear Regression\n",
    "\n",
    "[Simple Linear Regression](https://en.wikipedia.org/wiki/Simple_linear_regression#Fitting_the_regression_line)\n",
    "\n",
    "### $$\\hat{y} = \\beta_0 + \\beta_1 x$$\n",
    "\n",
    "> ### $$ \\beta_1 = \\frac{\\sum_{i=1}^n (y_i - \\bar{y} ) (x_i - \\bar{x} )}{\\sum_{i=1}^n (x_i - \\bar{x})^2} $$\n",
    "\n",
    "and\n",
    "\n",
    "> ### $$ \\beta_0 = \\bar{y} - \\beta_1\\bar{x} $$\n",
    "\n",
    "Given variables:\n",
    "- $\\bar{y}$ : the sample mean of observed values $Y$\n",
    "- $\\bar{x}$ : the sample mean of observed values $X$"
   ]
  },
  {
   "cell_type": "markdown",
   "metadata": {
    "id": "drP_xuAKXd4C"
   },
   "source": [
    "##### 2.7 Define X, Y\n",
    "\n",
    "- X = Predictor Variable \n",
    "- Y = Target Variable"
   ]
  },
  {
   "cell_type": "code",
   "execution_count": null,
   "metadata": {
    "id": "yPWPQp3VXd4D"
   },
   "outputs": [],
   "source": [
    "# ANSWER"
   ]
  },
  {
   "cell_type": "markdown",
   "metadata": {
    "id": "JkV3m-EqXd4F"
   },
   "source": [
    "##### 2.7.A Calculate beta_1\n",
    "\n",
    " ### $$ \\beta_1 = \\frac{\\sum_{i=1}^n (y_i - \\bar{y} ) (x_i - \\bar{x} )}{\\sum_{i=1}^n (x_i - \\bar{x})^2} $$"
   ]
  },
  {
   "cell_type": "code",
   "execution_count": 54,
   "metadata": {
    "id": "lcI1IAmXXd4G"
   },
   "outputs": [
    {
     "name": "stdout",
     "output_type": "stream",
     "text": [
      "x stats: mean=1.777 variance=788.863\n",
      "Covariance: 50738509.071\n",
      "64318.53523673409\n"
     ]
    }
   ],
   "source": [
    "# ANSWER\n",
    "\n",
    "def mean(values):\n",
    "\treturn sum(values) / float(len(values))\n",
    " \n",
    "# Calculate the variance of a list of numbers\n",
    "def variance(values, mean):\n",
    "\treturn sum([(x-mean)**2 for x in values])\n",
    " \n",
    "# calculate mean and variance\n",
    "\n",
    "x = data['baths']\n",
    "y = data['price']\n",
    "mean_x, mean_y = mean(x), mean(y)\n",
    "var_x, var_y = variance(x, mean_x), variance(y, mean_y)\n",
    "print('x stats: mean=%.3f variance=%.3f' % (mean_x, var_x))\n",
    "\n",
    "\n",
    "# Calculate covariance between x and y\n",
    "def covariance(x, mean_x, y, mean_y):\n",
    "    covar = 0.0\n",
    "    for i in range(len(x)):\n",
    "        covar += (x[i] - mean_x) * (y[i] - mean_y)\n",
    "    return covar\n",
    "\n",
    "mean_x, mean_y = mean(x), mean(y)\n",
    "covar = covariance(x, mean_x, y, mean_y)\n",
    "print('Covariance: %.3f' % (covar))\n",
    "\n",
    "b1 = covar / var_x\n",
    "print(b1)"
   ]
  },
  {
   "cell_type": "markdown",
   "metadata": {
    "id": "MoA9ez44Xd4I"
   },
   "source": [
    "##### 2.7.B Calculate beta_0"
   ]
  },
  {
   "cell_type": "markdown",
   "metadata": {
    "id": "V7fug5lMXd4K"
   },
   "source": [
    "### $$ \\beta_0 = \\bar{y} - \\beta_1\\bar{x} $$"
   ]
  },
  {
   "cell_type": "code",
   "execution_count": 55,
   "metadata": {
    "id": "bcu8ZhFLXd4L"
   },
   "outputs": [
    {
     "name": "stdout",
     "output_type": "stream",
     "text": [
      "119872.75465554858\n"
     ]
    }
   ],
   "source": [
    "# ANSWER\n",
    "\n",
    "b0= mean(y)-(covar / var_x)*mean(x)\n",
    "print (b0)"
   ]
  },
  {
   "cell_type": "markdown",
   "metadata": {
    "id": "Z9EUGv1KXd4N"
   },
   "source": [
    "##### 2.7.C Find Yhat (Predicted Value Using Beta 0 and Beta 1)"
   ]
  },
  {
   "cell_type": "markdown",
   "metadata": {
    "id": "gSRcDL57Xd4O"
   },
   "source": [
    "### $$\\hat{y} = \\beta_0 + \\beta_1 x$$"
   ]
  },
  {
   "cell_type": "code",
   "execution_count": 56,
   "metadata": {
    "id": "lGkoNedwXd4P"
   },
   "outputs": [
    {
     "name": "stdout",
     "output_type": "stream",
     "text": [
      "0      184191.289892\n",
      "1      184191.289892\n",
      "2      184191.289892\n",
      "3      184191.289892\n",
      "4      184191.289892\n",
      "           ...      \n",
      "980    312828.360366\n",
      "981    248509.825129\n",
      "982    248509.825129\n",
      "983    248509.825129\n",
      "984    248509.825129\n",
      "Name: baths, Length: 985, dtype: float64\n"
     ]
    },
    {
     "data": {
      "image/png": "[encoded data removed]",
      "text/plain": [
       "<Figure size 432x288 with 1 Axes>"
      ]
     },
     "metadata": {
      "needs_background": "light"
     },
     "output_type": "display_data"
    }
   ],
   "source": [
    "y_pred = b1 * x + b0\n",
    "  \n",
    "plt.scatter(x, y, color = 'red')\n",
    "plt.plot(x, y_pred, color = 'green')\n",
    "plt.xlabel('X')\n",
    "plt.ylabel('y')\n",
    "\n",
    "print(y_pred)"
   ]
  },
  {
   "cell_type": "markdown",
   "metadata": {
    "id": "h1D-rddfXd4R"
   },
   "source": [
    "##### 2.7.D Find Residuals"
   ]
  },
  {
   "cell_type": "markdown",
   "metadata": {
    "id": "2cha8XAQXd4S"
   },
   "source": [
    "### $$ \\text{residual}_i = y_i - \\hat{y}_i$$"
   ]
  },
  {
   "cell_type": "code",
   "execution_count": 57,
   "metadata": {
    "id": "dLZgRjbGXd4S"
   },
   "outputs": [
    {
     "name": "stdout",
     "output_type": "stream",
     "text": [
      "0     -124969.289892\n",
      "1     -115979.289892\n",
      "2     -115311.289892\n",
      "3     -114884.289892\n",
      "4     -102291.289892\n",
      "           ...      \n",
      "980    -80403.360366\n",
      "981    -14509.825129\n",
      "982    -13509.825129\n",
      "983    -13208.825129\n",
      "984    -12771.825129\n",
      "Length: 985, dtype: float64\n"
     ]
    }
   ],
   "source": [
    "# ANSWER\n",
    "residual = y - y_pred\n",
    "print (residual)"
   ]
  },
  {
   "cell_type": "markdown",
   "metadata": {
    "id": "bpXEda_uXd4U"
   },
   "source": [
    "##### 2.7.E Find R-Square\n",
    "\n",
    "The coefficient $R^2$ is defined as $$ R^2 = 1 - \\frac{SS_{res}}{SS_{tot}} $$, where $$ SS_{res} $$ is the residual sum of squares $$ SS_{res} = \\sum_{i=1}^n \\left(y_i - \\hat{y}_i\\right)^2 $$ and $$ SS_{res} $$ is the total sum of squares $$ SS_{tot} = \\sum_{i=1}^n \\left(y_i - \\bar{y}\\right)^2 $$\n",
    "\n",
    "The best possible score is 1.0 and it can be negative (because the model can be arbitrarily worse).\n",
    "\n",
    "**Write a function to calculate R- Square value.**"
   ]
  },
  {
   "cell_type": "markdown",
   "metadata": {
    "id": "1RamI9LTXd4V"
   },
   "source": [
    "The total sum of squares:\n",
    "\n",
    "### $$ SS_{tot} = \\sum_{i=1}^n \\left(y_i - \\bar{y}\\right)^2 $$\n",
    "\n",
    "The residual sum of squares:\n",
    "\n",
    "### $$ SS_{res} = \\sum_{i=1}^n \\left(y_i - \\hat{y}_i\\right)^2 $$\n",
    "\n",
    "$R^2$:\n",
    "\n",
    "### $$ R^2 = 1 - \\frac{SS_{res}}{SS_{tot}} $$"
   ]
  },
  {
   "cell_type": "code",
   "execution_count": 58,
   "metadata": {
    "id": "vmxloC2RXd4W"
   },
   "outputs": [
    {
     "name": "stdout",
     "output_type": "stream",
     "text": [
      "squared error is 15575357155318.627\n",
      "R square is 0.17322915474708322\n"
     ]
    }
   ],
   "source": [
    "# ANSWER\n",
    "\n",
    "error = y - y_pred\n",
    "se = np.sum(error**2)\n",
    "print('squared error is', se)\n",
    "    \n",
    "SSt = np.sum((y - mean(y))**2)\n",
    "R2 = 1- (se/SSt)\n",
    "print('R square is', R2)"
   ]
  },
  {
   "cell_type": "markdown",
   "metadata": {
    "id": "7xV-CEKcXd4a"
   },
   "source": [
    "##### 2.7.F [BONUS] Draw Plot of Predicted Line"
   ]
  },
  {
   "cell_type": "code",
   "execution_count": 59,
   "metadata": {
    "id": "P4JKmHWSXd4a"
   },
   "outputs": [
    {
     "name": "stdout",
     "output_type": "stream",
     "text": [
      "0      184191.289892\n",
      "1      184191.289892\n",
      "2      184191.289892\n",
      "3      184191.289892\n",
      "4      184191.289892\n",
      "           ...      \n",
      "980    312828.360366\n",
      "981    248509.825129\n",
      "982    248509.825129\n",
      "983    248509.825129\n",
      "984    248509.825129\n",
      "Name: baths, Length: 985, dtype: float64\n"
     ]
    },
    {
     "data": {
      "image/png": "[encoded data removed]",
      "text/plain": [
       "<Figure size 432x288 with 1 Axes>"
      ]
     },
     "metadata": {
      "needs_background": "light"
     },
     "output_type": "display_data"
    }
   ],
   "source": [
    "# ANSWER\n",
    "y_pred = b1 * x + b0\n",
    "  \n",
    "plt.scatter(x, y, color = 'red')\n",
    "plt.plot(x, y_pred, color = 'green')\n",
    "plt.xlabel('X')\n",
    "plt.ylabel('y')\n",
    "\n",
    "print(y_pred)"
   ]
  },
  {
   "cell_type": "markdown",
   "metadata": {
    "id": "oE45Z1qaXd4f"
   },
   "source": [
    "##### 2.7.G [BONUS] Draw Plot of Predicted Line With Resudals"
   ]
  },
  {
   "cell_type": "code",
   "execution_count": 60,
   "metadata": {
    "id": "yBLDh6cAXd4g"
   },
   "outputs": [
    {
     "name": "stdout",
     "output_type": "stream",
     "text": [
      "0      184191.289892\n",
      "1      184191.289892\n",
      "2      184191.289892\n",
      "3      184191.289892\n",
      "4      184191.289892\n",
      "           ...      \n",
      "980    312828.360366\n",
      "981    248509.825129\n",
      "982    248509.825129\n",
      "983    248509.825129\n",
      "984    248509.825129\n",
      "Name: baths, Length: 985, dtype: float64\n"
     ]
    },
    {
     "data": {
      "image/png": "[encoded data removed]",
      "text/plain": [
       "<Figure size 432x288 with 1 Axes>"
      ]
     },
     "metadata": {
      "needs_background": "light"
     },
     "output_type": "display_data"
    }
   ],
   "source": [
    "# ANSWER\n",
    "y_pred = b1 * x + b0\n",
    "  \n",
    "plt.scatter(x, y, color = 'red')\n",
    "plt.plot(x, y_pred, color = 'green')\n",
    "plt.xlabel('X')\n",
    "plt.ylabel('y')\n",
    "\n",
    "print(y_pred)"
   ]
  },
  {
   "cell_type": "markdown",
   "metadata": {
    "id": "NTjW6xxFXd4i"
   },
   "source": [
    "### 3. Predict House Price\n",
    "\n",
    "Let's assume we have information of following house:\n",
    "\n",
    "- street:\t1140 EDMONTON DR\n",
    "- city:\tSACRAMENTO\n",
    "- zip:\t95833\n",
    "- state:\tCA\n",
    "- beds:\t3\n",
    "- baths:\t2\n",
    "- sq__ft:\t1204\n",
    "- type:\tResidential\n",
    "\n",
    "**Predict the price of this house.**"
   ]
  },
  {
   "cell_type": "code",
   "execution_count": 61,
   "metadata": {
    "id": "mz5Lx5jGXd4j"
   },
   "outputs": [
    {
     "name": "stdout",
     "output_type": "stream",
     "text": [
      "77559389.1796834\n"
     ]
    }
   ],
   "source": [
    "# ANSWER\n",
    "\n",
    "predicted = b1 * (1204)+ b0\n",
    "print(predicted)"
   ]
  },
  {
   "cell_type": "markdown",
   "metadata": {
    "id": "W0FUjKlcl-NJ"
   },
   "source": [
    "\n",
    "\n",
    "---\n",
    "\n",
    "\n",
    "\n",
    "---\n",
    "\n",
    "\n",
    "\n",
    "> > > > > > > > > © 2021 Institute of Data\n",
    "\n",
    "\n",
    "---\n",
    "\n",
    "\n",
    "\n",
    "---\n",
    "\n",
    "\n",
    "\n"
   ]
  }
 ],
 "metadata": {
  "colab": {
   "collapsed_sections": [],
   "name": "IOD_Lab 4.1.1.ipynb",
   "provenance": []
  },
  "kernelspec": {
   "display_name": "Python 3",
   "language": "python",
   "name": "python3"
  },
  "language_info": {
   "codemirror_mode": {
    "name": "ipython",
    "version": 3
   },
   "file_extension": ".py",
   "mimetype": "text/x-python",
   "name": "python",
   "nbconvert_exporter": "python",
   "pygments_lexer": "ipython3",
   "version": "3.8.5"
  }
 },
 "nbformat": 4,
 "nbformat_minor": 1
}
